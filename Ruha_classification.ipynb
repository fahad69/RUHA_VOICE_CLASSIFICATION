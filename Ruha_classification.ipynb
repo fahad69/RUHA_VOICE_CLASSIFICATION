{
 "cells": [
  {
   "cell_type": "markdown",
   "id": "36b8d996",
   "metadata": {},
   "source": [
    "# Libraries \n"
   ]
  },
  {
   "cell_type": "code",
   "execution_count": 2,
   "id": "8caa4e85",
   "metadata": {},
   "outputs": [],
   "source": [
    "from zipfile import ZipFile\n",
    "import os\n",
    "import pandas as pd\n",
    "import shutil\n",
    "import librosa \n",
    "import librosa.display\n",
    "import soundfile as sf\n",
    "import numpy as np\n",
    "import matplotlib.pyplot as plt\n",
    "from sklearn.metrics import confusion_matrix\n",
    "from sklearn.model_selection import cross_val_predict\n",
    "from sklearn.metrics import accuracy_score\n",
    "from sklearn.metrics import f1_score\n",
    "from sklearn.metrics import classification_report \n",
    "from sklearn.naive_bayes import GaussianNB\n",
    "from sklearn import preprocessing\n",
    "from sklearn.model_selection import train_test_split\n",
    "from sklearn.neighbors import KNeighborsClassifier\n",
    "from sklearn.decomposition import PCA\n",
    "from sklearn import tree\n",
    "from sklearn.linear_model import LogisticRegression\n",
    "from sklearn import svm\n",
    "import pickle\n",
    "from collections import Counter\n",
    "from sklearn.datasets import make_classification\n",
    "from imblearn.over_sampling import SMOTE"
   ]
  },
  {
   "cell_type": "markdown",
   "id": "31e297ec",
   "metadata": {},
   "source": [
    "# DECLARE LISTS"
   ]
  },
  {
   "cell_type": "code",
   "execution_count": 2,
   "id": "1b0563df",
   "metadata": {},
   "outputs": [],
   "source": [
    "folder_name=[]\n",
    "features=[]\n",
    "vice_name=[]\n",
    "nm=[]"
   ]
  },
  {
   "cell_type": "code",
   "execution_count": 3,
   "id": "dde3d963",
   "metadata": {},
   "outputs": [
    {
     "name": "stdout",
     "output_type": "stream",
     "text": [
      "['A.C', 'Bulb', 'light', 'song', 'T.V']\n"
     ]
    }
   ],
   "source": [
    "print(os.listdir(\"C:/Users/Fahad Maqbool/Documents/data_science_project/project\"))"
   ]
  },
  {
   "cell_type": "markdown",
   "id": "f86d54f8",
   "metadata": {},
   "source": [
    "#  MFCC "
   ]
  },
  {
   "cell_type": "code",
   "execution_count": 4,
   "id": "4da7ba17",
   "metadata": {},
   "outputs": [],
   "source": [
    "for filename in os.listdir(\"C:/Users/Fahad Maqbool/Documents/data_science_project/project\"):\n",
    "    folder_name.append(filename)\n",
    "    for vice in os.listdir(f\"C:/Users/Fahad Maqbool/Documents/data_science_project/project/{filename}\"):\n",
    "        vice_name.append(vice)\n",
    "        p=f\"C:/Users/Fahad Maqbool/Documents/data_science_project/project/{filename}/{vice}\"\n",
    "        x , sr = librosa.load(f\"C:/Users/Fahad Maqbool/Documents/data_science_project/project/{filename}/{vice}\")\n",
    "        mfccs = librosa.feature.mfcc(y=x, sr=sr)\n",
    "        features.append(np.array(mfccs))\n",
    "        nm.append(filename)\n"
   ]
  },
  {
   "cell_type": "markdown",
   "id": "1f32e048",
   "metadata": {},
   "source": [
    "# FLATTEN THE LIST"
   ]
  },
  {
   "cell_type": "code",
   "execution_count": 4,
   "id": "7613350c",
   "metadata": {},
   "outputs": [
    {
     "ename": "NameError",
     "evalue": "name 'features' is not defined",
     "output_type": "error",
     "traceback": [
      "\u001b[1;31m---------------------------------------------------------------------------\u001b[0m",
      "\u001b[1;31mNameError\u001b[0m                                 Traceback (most recent call last)",
      "\u001b[1;32mC:\\Users\\FAHADM~1\\AppData\\Local\\Temp/ipykernel_8924/1304013917.py\u001b[0m in \u001b[0;36m<module>\u001b[1;34m\u001b[0m\n\u001b[0;32m      2\u001b[0m \u001b[0ml2d\u001b[0m\u001b[1;33m=\u001b[0m\u001b[1;33m[\u001b[0m\u001b[1;33m]\u001b[0m\u001b[1;33m\u001b[0m\u001b[1;33m\u001b[0m\u001b[0m\n\u001b[0;32m      3\u001b[0m \u001b[0mi\u001b[0m\u001b[1;33m=\u001b[0m\u001b[1;36m0\u001b[0m\u001b[1;33m\u001b[0m\u001b[1;33m\u001b[0m\u001b[0m\n\u001b[1;32m----> 4\u001b[1;33m \u001b[1;32mfor\u001b[0m \u001b[0me1\u001b[0m \u001b[1;32min\u001b[0m \u001b[0mfeatures\u001b[0m\u001b[1;33m:\u001b[0m\u001b[1;33m\u001b[0m\u001b[1;33m\u001b[0m\u001b[0m\n\u001b[0m\u001b[0;32m      5\u001b[0m     \u001b[1;32mfor\u001b[0m \u001b[0me2\u001b[0m \u001b[1;32min\u001b[0m \u001b[0me1\u001b[0m\u001b[1;33m:\u001b[0m\u001b[1;33m\u001b[0m\u001b[1;33m\u001b[0m\u001b[0m\n\u001b[0;32m      6\u001b[0m         \u001b[0ml2d\u001b[0m\u001b[1;33m.\u001b[0m\u001b[0mappend\u001b[0m\u001b[1;33m(\u001b[0m\u001b[0me2\u001b[0m\u001b[1;33m)\u001b[0m\u001b[1;33m\u001b[0m\u001b[1;33m\u001b[0m\u001b[0m\n",
      "\u001b[1;31mNameError\u001b[0m: name 'features' is not defined"
     ]
    }
   ],
   "source": [
    "labs=[]\n",
    "l2d=[]\n",
    "i=0\n",
    "for e1 in features:\n",
    "    for e2 in e1:\n",
    "        l2d.append(e2)\n",
    "        labs.append(nm[i])\n",
    "    i+=1\n",
    "l2d\n"
   ]
  },
  {
   "cell_type": "code",
   "execution_count": null,
   "id": "b0db6443",
   "metadata": {},
   "outputs": [],
   "source": []
  },
  {
   "cell_type": "markdown",
   "id": "7bb33ee2",
   "metadata": {},
   "source": [
    "# DATA FRAME"
   ]
  },
  {
   "cell_type": "code",
   "execution_count": 6,
   "id": "01e65bbb",
   "metadata": {},
   "outputs": [
    {
     "data": {
      "text/html": [
       "<div>\n",
       "<style scoped>\n",
       "    .dataframe tbody tr th:only-of-type {\n",
       "        vertical-align: middle;\n",
       "    }\n",
       "\n",
       "    .dataframe tbody tr th {\n",
       "        vertical-align: top;\n",
       "    }\n",
       "\n",
       "    .dataframe thead th {\n",
       "        text-align: right;\n",
       "    }\n",
       "</style>\n",
       "<table border=\"1\" class=\"dataframe\">\n",
       "  <thead>\n",
       "    <tr style=\"text-align: right;\">\n",
       "      <th></th>\n",
       "      <th>0</th>\n",
       "      <th>1</th>\n",
       "      <th>2</th>\n",
       "      <th>3</th>\n",
       "      <th>4</th>\n",
       "      <th>5</th>\n",
       "      <th>6</th>\n",
       "      <th>7</th>\n",
       "      <th>8</th>\n",
       "      <th>9</th>\n",
       "      <th>...</th>\n",
       "      <th>438</th>\n",
       "      <th>439</th>\n",
       "      <th>440</th>\n",
       "      <th>441</th>\n",
       "      <th>442</th>\n",
       "      <th>443</th>\n",
       "      <th>444</th>\n",
       "      <th>445</th>\n",
       "      <th>446</th>\n",
       "      <th>447</th>\n",
       "    </tr>\n",
       "  </thead>\n",
       "  <tbody>\n",
       "    <tr>\n",
       "      <th>0</th>\n",
       "      <td>-573.358500</td>\n",
       "      <td>-555.562260</td>\n",
       "      <td>-533.449800</td>\n",
       "      <td>-527.399200</td>\n",
       "      <td>-530.960200</td>\n",
       "      <td>-530.035770</td>\n",
       "      <td>-528.541300</td>\n",
       "      <td>-534.086730</td>\n",
       "      <td>-533.298400</td>\n",
       "      <td>-527.711240</td>\n",
       "      <td>...</td>\n",
       "      <td>196.475586</td>\n",
       "      <td>196.475586</td>\n",
       "      <td>196.475586</td>\n",
       "      <td>196.475586</td>\n",
       "      <td>196.475586</td>\n",
       "      <td>196.475586</td>\n",
       "      <td>196.475586</td>\n",
       "      <td>196.475586</td>\n",
       "      <td>196.475586</td>\n",
       "      <td>196.475586</td>\n",
       "    </tr>\n",
       "    <tr>\n",
       "      <th>1</th>\n",
       "      <td>35.081665</td>\n",
       "      <td>54.499725</td>\n",
       "      <td>64.382750</td>\n",
       "      <td>62.595620</td>\n",
       "      <td>62.589806</td>\n",
       "      <td>68.137436</td>\n",
       "      <td>74.358220</td>\n",
       "      <td>70.291550</td>\n",
       "      <td>69.205140</td>\n",
       "      <td>68.416240</td>\n",
       "      <td>...</td>\n",
       "      <td>196.475586</td>\n",
       "      <td>196.475586</td>\n",
       "      <td>196.475586</td>\n",
       "      <td>196.475586</td>\n",
       "      <td>196.475586</td>\n",
       "      <td>196.475586</td>\n",
       "      <td>196.475586</td>\n",
       "      <td>196.475586</td>\n",
       "      <td>196.475586</td>\n",
       "      <td>196.475586</td>\n",
       "    </tr>\n",
       "    <tr>\n",
       "      <th>2</th>\n",
       "      <td>27.927254</td>\n",
       "      <td>37.240036</td>\n",
       "      <td>38.031400</td>\n",
       "      <td>35.323822</td>\n",
       "      <td>35.630684</td>\n",
       "      <td>36.090946</td>\n",
       "      <td>37.958780</td>\n",
       "      <td>37.888958</td>\n",
       "      <td>35.803753</td>\n",
       "      <td>32.079240</td>\n",
       "      <td>...</td>\n",
       "      <td>196.475586</td>\n",
       "      <td>196.475586</td>\n",
       "      <td>196.475586</td>\n",
       "      <td>196.475586</td>\n",
       "      <td>196.475586</td>\n",
       "      <td>196.475586</td>\n",
       "      <td>196.475586</td>\n",
       "      <td>196.475586</td>\n",
       "      <td>196.475586</td>\n",
       "      <td>196.475586</td>\n",
       "    </tr>\n",
       "    <tr>\n",
       "      <th>3</th>\n",
       "      <td>19.979950</td>\n",
       "      <td>22.769472</td>\n",
       "      <td>19.711475</td>\n",
       "      <td>19.934948</td>\n",
       "      <td>18.281197</td>\n",
       "      <td>13.284443</td>\n",
       "      <td>11.793400</td>\n",
       "      <td>15.106581</td>\n",
       "      <td>13.772718</td>\n",
       "      <td>9.123466</td>\n",
       "      <td>...</td>\n",
       "      <td>196.475586</td>\n",
       "      <td>196.475586</td>\n",
       "      <td>196.475586</td>\n",
       "      <td>196.475586</td>\n",
       "      <td>196.475586</td>\n",
       "      <td>196.475586</td>\n",
       "      <td>196.475586</td>\n",
       "      <td>196.475586</td>\n",
       "      <td>196.475586</td>\n",
       "      <td>196.475586</td>\n",
       "    </tr>\n",
       "    <tr>\n",
       "      <th>4</th>\n",
       "      <td>13.455330</td>\n",
       "      <td>15.077808</td>\n",
       "      <td>12.552534</td>\n",
       "      <td>8.241514</td>\n",
       "      <td>8.243848</td>\n",
       "      <td>8.549055</td>\n",
       "      <td>4.869379</td>\n",
       "      <td>8.190588</td>\n",
       "      <td>10.016930</td>\n",
       "      <td>11.157835</td>\n",
       "      <td>...</td>\n",
       "      <td>196.475586</td>\n",
       "      <td>196.475586</td>\n",
       "      <td>196.475586</td>\n",
       "      <td>196.475586</td>\n",
       "      <td>196.475586</td>\n",
       "      <td>196.475586</td>\n",
       "      <td>196.475586</td>\n",
       "      <td>196.475586</td>\n",
       "      <td>196.475586</td>\n",
       "      <td>196.475586</td>\n",
       "    </tr>\n",
       "    <tr>\n",
       "      <th>...</th>\n",
       "      <td>...</td>\n",
       "      <td>...</td>\n",
       "      <td>...</td>\n",
       "      <td>...</td>\n",
       "      <td>...</td>\n",
       "      <td>...</td>\n",
       "      <td>...</td>\n",
       "      <td>...</td>\n",
       "      <td>...</td>\n",
       "      <td>...</td>\n",
       "      <td>...</td>\n",
       "      <td>...</td>\n",
       "      <td>...</td>\n",
       "      <td>...</td>\n",
       "      <td>...</td>\n",
       "      <td>...</td>\n",
       "      <td>...</td>\n",
       "      <td>...</td>\n",
       "      <td>...</td>\n",
       "      <td>...</td>\n",
       "      <td>...</td>\n",
       "    </tr>\n",
       "    <tr>\n",
       "      <th>96675</th>\n",
       "      <td>-2.116699</td>\n",
       "      <td>-2.375943</td>\n",
       "      <td>-3.517443</td>\n",
       "      <td>-5.680630</td>\n",
       "      <td>-6.948826</td>\n",
       "      <td>-5.287836</td>\n",
       "      <td>-3.970550</td>\n",
       "      <td>-5.491454</td>\n",
       "      <td>-3.122254</td>\n",
       "      <td>-3.099470</td>\n",
       "      <td>...</td>\n",
       "      <td>196.475586</td>\n",
       "      <td>196.475586</td>\n",
       "      <td>196.475586</td>\n",
       "      <td>196.475586</td>\n",
       "      <td>196.475586</td>\n",
       "      <td>196.475586</td>\n",
       "      <td>196.475586</td>\n",
       "      <td>196.475586</td>\n",
       "      <td>196.475586</td>\n",
       "      <td>196.475586</td>\n",
       "    </tr>\n",
       "    <tr>\n",
       "      <th>96676</th>\n",
       "      <td>-2.716331</td>\n",
       "      <td>-2.977347</td>\n",
       "      <td>-3.901935</td>\n",
       "      <td>-5.884201</td>\n",
       "      <td>-6.449221</td>\n",
       "      <td>-4.791304</td>\n",
       "      <td>-3.229937</td>\n",
       "      <td>-4.126869</td>\n",
       "      <td>-2.242085</td>\n",
       "      <td>-2.677393</td>\n",
       "      <td>...</td>\n",
       "      <td>196.475586</td>\n",
       "      <td>196.475586</td>\n",
       "      <td>196.475586</td>\n",
       "      <td>196.475586</td>\n",
       "      <td>196.475586</td>\n",
       "      <td>196.475586</td>\n",
       "      <td>196.475586</td>\n",
       "      <td>196.475586</td>\n",
       "      <td>196.475586</td>\n",
       "      <td>196.475586</td>\n",
       "    </tr>\n",
       "    <tr>\n",
       "      <th>96677</th>\n",
       "      <td>-2.511344</td>\n",
       "      <td>-2.866738</td>\n",
       "      <td>-3.923080</td>\n",
       "      <td>-5.168837</td>\n",
       "      <td>-4.726720</td>\n",
       "      <td>-3.341042</td>\n",
       "      <td>-1.884075</td>\n",
       "      <td>-2.992992</td>\n",
       "      <td>-1.966581</td>\n",
       "      <td>-2.086120</td>\n",
       "      <td>...</td>\n",
       "      <td>196.475586</td>\n",
       "      <td>196.475586</td>\n",
       "      <td>196.475586</td>\n",
       "      <td>196.475586</td>\n",
       "      <td>196.475586</td>\n",
       "      <td>196.475586</td>\n",
       "      <td>196.475586</td>\n",
       "      <td>196.475586</td>\n",
       "      <td>196.475586</td>\n",
       "      <td>196.475586</td>\n",
       "    </tr>\n",
       "    <tr>\n",
       "      <th>96678</th>\n",
       "      <td>-1.664209</td>\n",
       "      <td>-2.152938</td>\n",
       "      <td>-3.591787</td>\n",
       "      <td>-3.835153</td>\n",
       "      <td>-2.388226</td>\n",
       "      <td>-1.291090</td>\n",
       "      <td>-0.261468</td>\n",
       "      <td>-1.405344</td>\n",
       "      <td>-1.254884</td>\n",
       "      <td>-1.379839</td>\n",
       "      <td>...</td>\n",
       "      <td>196.475586</td>\n",
       "      <td>196.475586</td>\n",
       "      <td>196.475586</td>\n",
       "      <td>196.475586</td>\n",
       "      <td>196.475586</td>\n",
       "      <td>196.475586</td>\n",
       "      <td>196.475586</td>\n",
       "      <td>196.475586</td>\n",
       "      <td>196.475586</td>\n",
       "      <td>196.475586</td>\n",
       "    </tr>\n",
       "    <tr>\n",
       "      <th>96679</th>\n",
       "      <td>-0.544215</td>\n",
       "      <td>-1.128993</td>\n",
       "      <td>-2.997311</td>\n",
       "      <td>-2.352647</td>\n",
       "      <td>-0.152528</td>\n",
       "      <td>0.844700</td>\n",
       "      <td>1.219078</td>\n",
       "      <td>0.899384</td>\n",
       "      <td>0.433247</td>\n",
       "      <td>-0.640512</td>\n",
       "      <td>...</td>\n",
       "      <td>196.475586</td>\n",
       "      <td>196.475586</td>\n",
       "      <td>196.475586</td>\n",
       "      <td>196.475586</td>\n",
       "      <td>196.475586</td>\n",
       "      <td>196.475586</td>\n",
       "      <td>196.475586</td>\n",
       "      <td>196.475586</td>\n",
       "      <td>196.475586</td>\n",
       "      <td>196.475586</td>\n",
       "    </tr>\n",
       "  </tbody>\n",
       "</table>\n",
       "<p>96680 rows × 448 columns</p>\n",
       "</div>"
      ],
      "text/plain": [
       "                0           1           2           3           4           5  \\\n",
       "0     -573.358500 -555.562260 -533.449800 -527.399200 -530.960200 -530.035770   \n",
       "1       35.081665   54.499725   64.382750   62.595620   62.589806   68.137436   \n",
       "2       27.927254   37.240036   38.031400   35.323822   35.630684   36.090946   \n",
       "3       19.979950   22.769472   19.711475   19.934948   18.281197   13.284443   \n",
       "4       13.455330   15.077808   12.552534    8.241514    8.243848    8.549055   \n",
       "...           ...         ...         ...         ...         ...         ...   \n",
       "96675   -2.116699   -2.375943   -3.517443   -5.680630   -6.948826   -5.287836   \n",
       "96676   -2.716331   -2.977347   -3.901935   -5.884201   -6.449221   -4.791304   \n",
       "96677   -2.511344   -2.866738   -3.923080   -5.168837   -4.726720   -3.341042   \n",
       "96678   -1.664209   -2.152938   -3.591787   -3.835153   -2.388226   -1.291090   \n",
       "96679   -0.544215   -1.128993   -2.997311   -2.352647   -0.152528    0.844700   \n",
       "\n",
       "                6           7           8           9  ...         438  \\\n",
       "0     -528.541300 -534.086730 -533.298400 -527.711240  ...  196.475586   \n",
       "1       74.358220   70.291550   69.205140   68.416240  ...  196.475586   \n",
       "2       37.958780   37.888958   35.803753   32.079240  ...  196.475586   \n",
       "3       11.793400   15.106581   13.772718    9.123466  ...  196.475586   \n",
       "4        4.869379    8.190588   10.016930   11.157835  ...  196.475586   \n",
       "...           ...         ...         ...         ...  ...         ...   \n",
       "96675   -3.970550   -5.491454   -3.122254   -3.099470  ...  196.475586   \n",
       "96676   -3.229937   -4.126869   -2.242085   -2.677393  ...  196.475586   \n",
       "96677   -1.884075   -2.992992   -1.966581   -2.086120  ...  196.475586   \n",
       "96678   -0.261468   -1.405344   -1.254884   -1.379839  ...  196.475586   \n",
       "96679    1.219078    0.899384    0.433247   -0.640512  ...  196.475586   \n",
       "\n",
       "              439         440         441         442         443         444  \\\n",
       "0      196.475586  196.475586  196.475586  196.475586  196.475586  196.475586   \n",
       "1      196.475586  196.475586  196.475586  196.475586  196.475586  196.475586   \n",
       "2      196.475586  196.475586  196.475586  196.475586  196.475586  196.475586   \n",
       "3      196.475586  196.475586  196.475586  196.475586  196.475586  196.475586   \n",
       "4      196.475586  196.475586  196.475586  196.475586  196.475586  196.475586   \n",
       "...           ...         ...         ...         ...         ...         ...   \n",
       "96675  196.475586  196.475586  196.475586  196.475586  196.475586  196.475586   \n",
       "96676  196.475586  196.475586  196.475586  196.475586  196.475586  196.475586   \n",
       "96677  196.475586  196.475586  196.475586  196.475586  196.475586  196.475586   \n",
       "96678  196.475586  196.475586  196.475586  196.475586  196.475586  196.475586   \n",
       "96679  196.475586  196.475586  196.475586  196.475586  196.475586  196.475586   \n",
       "\n",
       "              445         446         447  \n",
       "0      196.475586  196.475586  196.475586  \n",
       "1      196.475586  196.475586  196.475586  \n",
       "2      196.475586  196.475586  196.475586  \n",
       "3      196.475586  196.475586  196.475586  \n",
       "4      196.475586  196.475586  196.475586  \n",
       "...           ...         ...         ...  \n",
       "96675  196.475586  196.475586  196.475586  \n",
       "96676  196.475586  196.475586  196.475586  \n",
       "96677  196.475586  196.475586  196.475586  \n",
       "96678  196.475586  196.475586  196.475586  \n",
       "96679  196.475586  196.475586  196.475586  \n",
       "\n",
       "[96680 rows x 448 columns]"
      ]
     },
     "execution_count": 6,
     "metadata": {},
     "output_type": "execute_result"
    }
   ],
   "source": [
    "# tt=pd.DataFrame(l2d)\n",
    "# tt=tt.fillna(0)\n",
    "# aa=tt.max()\n",
    "# aa\n",
    "# for i in aa:\n",
    "#     tt=tt.fillna(i)\n",
    "# # tt = tt.dropna()\n",
    "# tt\n",
    "# tt.to_csv('mfcc.csv', index=False)\n",
    "df = pd.read_csv ('mfcc.csv')\n",
    "df"
   ]
  },
  {
   "cell_type": "markdown",
   "id": "ef50b63b",
   "metadata": {},
   "source": [
    "# LABEL ENCODING "
   ]
  },
  {
   "cell_type": "code",
   "execution_count": 8,
   "id": "693baafd",
   "metadata": {},
   "outputs": [
    {
     "data": {
      "text/plain": [
       "array([], dtype=int64)"
      ]
     },
     "execution_count": 8,
     "metadata": {},
     "output_type": "execute_result"
    }
   ],
   "source": [
    "label_encoder = preprocessing.LabelEncoder()\n",
    "lables= label_encoder.fit_transform(labs)\n",
    "lables\n",
    "# tt=pd.DataFrame(labels)\n"
   ]
  },
  {
   "cell_type": "markdown",
   "id": "6e23b0d3",
   "metadata": {},
   "source": [
    "# Train_test_split"
   ]
  },
  {
   "cell_type": "code",
   "execution_count": null,
   "id": "1559f3b0",
   "metadata": {},
   "outputs": [],
   "source": [
    "X_train, X_test, y_train, y_test = train_test_split(df, lables,train_size=0.65,test_size=0.35, random_state=0)\n",
    "print (\"X_train: \", X_train)\n",
    "print (\"y_train: \", y_train)\n",
    "print(\"X_test: \", X_test)\n",
    "print (\"y_test: \", y_test)\n"
   ]
  },
  {
   "cell_type": "markdown",
   "id": "59bf4fc9",
   "metadata": {},
   "source": [
    "# 1-K-Nearest Neighbor Algorithm"
   ]
  },
  {
   "cell_type": "code",
   "execution_count": 71,
   "id": "3499b0c6",
   "metadata": {},
   "outputs": [
    {
     "name": "stdout",
     "output_type": "stream",
     "text": [
      "Accuracy :  51.468762929251135\n",
      "Report : \n",
      "               precision    recall  f1-score   support\n",
      "\n",
      "           0       0.39      0.42      0.40      4222\n",
      "           1       0.47      0.45      0.46      4667\n",
      "           2       0.64      0.63      0.63     15517\n",
      "           3       0.45      0.39      0.42      4593\n",
      "           4       0.36      0.41      0.38      4839\n",
      "\n",
      "    accuracy                           0.51     33838\n",
      "   macro avg       0.46      0.46      0.46     33838\n",
      "weighted avg       0.52      0.51      0.52     33838\n",
      "\n",
      "F1 Score :  45.966012883473454\n"
     ]
    }
   ],
   "source": [
    "knn = KNeighborsClassifier(n_neighbors = 1)\n",
    "knn.fit(X_train, y_train)\n",
    "knn_pred = knn.predict(X_test)\n",
    "print (\"Accuracy : \" , accuracy_score(y_test,knn_pred)*100)  \n",
    "print(\"Report : \\n\", classification_report(y_test, knn_pred))\n",
    "print(\"F1 Score : \",f1_score(y_test, knn_pred, average='macro')*100)"
   ]
  },
  {
   "cell_type": "code",
   "execution_count": 52,
   "id": "ca4c103e",
   "metadata": {},
   "outputs": [
    {
     "data": {
      "text/plain": [
       "array([[1760,  231, 1319,  234,  678],\n",
       "       [ 295, 2123, 1248,  579,  422],\n",
       "       [1481, 1186, 9752, 1126, 1972],\n",
       "       [ 382,  641, 1294, 1814,  462],\n",
       "       [ 641,  315, 1602,  314, 1967]], dtype=int64)"
      ]
     },
     "execution_count": 52,
     "metadata": {},
     "output_type": "execute_result"
    }
   ],
   "source": [
    "knn = confusion_matrix(y_test, knn_pred)\n",
    "knn"
   ]
  },
  {
   "cell_type": "markdown",
   "id": "7069c09b",
   "metadata": {},
   "source": [
    "# 2-Decision Tree  "
   ]
  },
  {
   "cell_type": "code",
   "execution_count": 72,
   "id": "53e04b95",
   "metadata": {},
   "outputs": [
    {
     "name": "stdout",
     "output_type": "stream",
     "text": [
      "Accuracy :  51.25302913883799\n",
      "Report : \n",
      "               precision    recall  f1-score   support\n",
      "\n",
      "           0       0.39      0.30      0.34      4222\n",
      "           1       0.44      0.41      0.42      4667\n",
      "           2       0.58      0.74      0.65     15517\n",
      "           3       0.42      0.31      0.36      4593\n",
      "           4       0.41      0.27      0.33      4839\n",
      "\n",
      "    accuracy                           0.51     33838\n",
      "   macro avg       0.45      0.41      0.42     33838\n",
      "weighted avg       0.49      0.51      0.49     33838\n",
      "\n",
      "F1 Score :  41.955997920630956\n"
     ]
    }
   ],
   "source": [
    "tre = tree.DecisionTreeClassifier(splitter=\"best\" ,max_depth=15)\n",
    "tre.fit(X_train, y_train)\n",
    "tree_pred=tre.predict(X_test)\n",
    "print (\"Accuracy : \" , accuracy_score(y_test,tree_pred)*100)  \n",
    "print(\"Report : \\n\", classification_report(y_test, tree_pred))\n",
    "print(\"F1 Score : \",f1_score(y_test, tree_pred, average='macro')*100)"
   ]
  },
  {
   "cell_type": "markdown",
   "id": "29e7cc8c",
   "metadata": {},
   "source": [
    "# 3-Logistic Regression"
   ]
  },
  {
   "cell_type": "code",
   "execution_count": null,
   "id": "50c691d4",
   "metadata": {},
   "outputs": [],
   "source": [
    "LR_classifier = LogisticRegression(random_state=0)\n",
    "LR_classifier.fit(X_train, y_train)\n",
    "lr_pred = LR_classifier.predict(X_test)\n",
    "print (\"Accuracy : \" , accuracy_score(y_test,lr_pred)*100)  \n",
    "print(\"Report : \\n\", classification_report(y_test, lr_pred))\n",
    "print(\"F1 Score : \",f1_score(y_test, lr_pred, average='macro')*100)"
   ]
  },
  {
   "cell_type": "markdown",
   "id": "f07a7d17",
   "metadata": {},
   "source": [
    "# 4-Naive Bayes"
   ]
  },
  {
   "cell_type": "code",
   "execution_count": 73,
   "id": "780f4ef4",
   "metadata": {},
   "outputs": [
    {
     "name": "stdout",
     "output_type": "stream",
     "text": [
      "Accuracy :  13.833559903067558\n",
      "Report : \n",
      "               precision    recall  f1-score   support\n",
      "\n",
      "           0       0.13      0.98      0.23      4222\n",
      "           1       0.29      0.03      0.06      4667\n",
      "           2       0.72      0.00      0.00     15517\n",
      "           3       0.29      0.08      0.13      4593\n",
      "           4       0.04      0.00      0.00      4839\n",
      "\n",
      "    accuracy                           0.14     33838\n",
      "   macro avg       0.29      0.22      0.08     33838\n",
      "weighted avg       0.43      0.14      0.06     33838\n",
      "\n",
      "F1 Score :  8.34913491723885\n"
     ]
    }
   ],
   "source": [
    "Naive_Bayes = GaussianNB()\n",
    "Naive_Bayes.fit(X_train, y_train)\n",
    "bayes_pred =Naive_Bayes.predict(X_test)\n",
    "print (\"Accuracy : \" , accuracy_score(y_test,bayes_pred)*100)  \n",
    "print(\"Report : \\n\", classification_report(y_test, bayes_pred))\n",
    "print(\"F1 Score : \",f1_score(y_test, bayes_pred, average='macro')*100)"
   ]
  },
  {
   "cell_type": "markdown",
   "id": "fa8d025c",
   "metadata": {},
   "source": [
    "# 5-SVM ( Support Vector Machine)"
   ]
  },
  {
   "cell_type": "code",
   "execution_count": null,
   "id": "bcc468d5",
   "metadata": {},
   "outputs": [],
   "source": [
    "svm_clf = svm.SVC()\n",
    "svm_clf.fit(X_train, y_train)\n",
    "svm_pred =svm_clf.predict(X_test)\n",
    "print (\"Accuracy : \" , accuracy_score(y_test,svm_pred)*100)  \n",
    "print(\"Report : \\n\", classification_report(y_test, svm_pred))\n",
    "print(\"F1 Score : \",f1_score(y_test, svm_pred, average='macro')*100)"
   ]
  },
  {
   "cell_type": "code",
   "execution_count": null,
   "id": "21fa2427",
   "metadata": {},
   "outputs": [],
   "source": [
    "confusion_matrix(y_train_5, y_train_pred)"
   ]
  }
 ],
 "metadata": {
  "celltoolbar": "Raw Cell Format",
  "kernelspec": {
   "display_name": "Python 3 (ipykernel)",
   "language": "python",
   "name": "python3"
  },
  "language_info": {
   "codemirror_mode": {
    "name": "ipython",
    "version": 3
   },
   "file_extension": ".py",
   "mimetype": "text/x-python",
   "name": "python",
   "nbconvert_exporter": "python",
   "pygments_lexer": "ipython3",
   "version": "3.9.7"
  }
 },
 "nbformat": 4,
 "nbformat_minor": 5
}
